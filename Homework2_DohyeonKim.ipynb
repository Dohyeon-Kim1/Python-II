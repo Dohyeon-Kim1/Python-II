{
 "cells": [
  {
   "cell_type": "markdown",
   "metadata": {},
   "source": [
    "# Import packages"
   ]
  },
  {
   "cell_type": "code",
   "execution_count": 1,
   "metadata": {},
   "outputs": [],
   "source": [
    "import pandas as pd\n",
    "import numpy as np\n",
    "import matplotlib.pyplot as plt\n",
    "import seaborn as sns"
   ]
  },
  {
   "cell_type": "markdown",
   "metadata": {},
   "source": [
    "# Load DM01-31_study.txt  DM01-31_test.txt files as csv "
   ]
  },
  {
   "cell_type": "code",
   "execution_count": 2,
   "metadata": {},
   "outputs": [],
   "source": [
    "def save_DataFrame(subject_ID):\n",
    "    \n",
    "    globals()['DM{:0>2}_study'.format(subject_ID)] = pd.read_csv('Homework2_Datat_MemoryExperimet/DMdata/DM{:0>2}/DM{:0>2}_study.txt'.format(subject_ID,subject_ID),\n",
    "                                                                  sep='\\t', index_col=False)\n",
    "    globals()['DM{:0>2}_test'.format(subject_ID)] = pd.read_csv('Homework2_Datat_MemoryExperimet/DMdata/DM{:0>2}/DM{:0>2}_test.txt'.format(subject_ID,subject_ID),\n",
    "                                                                 sep='\\t', index_col=False)"
   ]
  },
  {
   "cell_type": "code",
   "execution_count": 3,
   "metadata": {},
   "outputs": [],
   "source": [
    "for subject_ID in range(1,32):\n",
    "    save_DataFrame(subject_ID)"
   ]
  },
  {
   "cell_type": "markdown",
   "metadata": {},
   "source": [
    "# Response rate"
   ]
  },
  {
   "cell_type": "markdown",
   "metadata": {},
   "source": [
    "### Response rate DataFrame"
   ]
  },
  {
   "cell_type": "code",
   "execution_count": 4,
   "metadata": {},
   "outputs": [],
   "source": [
    "def Response_rate_DataFrame(Subject_id):\n",
    "    \n",
    "    # sort response\n",
    "    \n",
    "    DM_test = globals()[\"DM{:0>2}_test\".format(Subject_id)]\n",
    "    list = []\n",
    "    \n",
    "    for type, res in [*zip(DM_test['Task_Type'],DM_test['Res1'])]:\n",
    "    \n",
    "        if (type,res) == (0,1):\n",
    "            list.append('HIT-HC')\n",
    "        \n",
    "        elif (type,res) == (0,2):\n",
    "            list.append('HIT-LC')\n",
    "        \n",
    "        elif (type,res) == (0,3):\n",
    "            list.append('MISS-LC')\n",
    "        \n",
    "        elif (type,res) == (0,4):\n",
    "            list.append('MISS-HC')\n",
    "        \n",
    "        elif (type,res) == (1,1):\n",
    "            list.append('FA-HC')        \n",
    "        \n",
    "        elif (type,res) == (1,2):\n",
    "            list.append('FA-LC')\n",
    "       \n",
    "        elif (type,res) == (1,3):\n",
    "            list.append('CR-LC')\n",
    "       \n",
    "        elif (type,res) == (1,4):\n",
    "            list.append('CR-HC')\n",
    "\n",
    "    DM_test['sort'] = list\n",
    "    \n",
    "    \n",
    "    # create Response rate DataFrame\n",
    "    \n",
    "    array = np.array(DM_test['sort'].value_counts()) / 256\n",
    "    globals()[\"DM{:0>2}_sort_probability\".format(subject_ID)] = pd.DataFrame(array, columns=['DM{:0>2}_1'.format(subject_ID)],\n",
    "                                                                             index=DM_test['sort'].value_counts().index)\n",
    "    \n",
    "    DM_sort_probability = globals()[\"DM{:0>2}_sort_probability\".format(subject_ID)]\n",
    "    global df_1\n",
    "    \n",
    "    df_1 = pd.concat([df_1, DM_sort_probability], axis=1)\n",
    "    df_1 = df_1.fillna(0)"
   ]
  },
  {
   "cell_type": "code",
   "execution_count": 5,
   "metadata": {},
   "outputs": [],
   "source": [
    "df_1 = pd.DataFrame({'Task_Type': ['Old','Old','Old','Old','New','New','New','New']},\n",
    "                     index = ['HIT-HC','HIT-LC','MISS-LC','MISS-HC','FA-HC','FA-LC','CR-LC','CR-HC'])\n",
    "\n",
    "for subject_ID in range(1,32):\n",
    "    Response_rate_DataFrame(subject_ID)"
   ]
  },
  {
   "cell_type": "markdown",
   "metadata": {},
   "source": [
    "### Response rate plot"
   ]
  },
  {
   "cell_type": "code",
   "execution_count": 6,
   "metadata": {},
   "outputs": [],
   "source": [
    "def Response_rate_plot(df):\n",
    "    \n",
    "    # error value\n",
    "    \n",
    "    ci95 = 1.96 * (df.std(axis=1) / 31**(1/2))\n",
    "    \n",
    "    \n",
    "    # plot\n",
    "    \n",
    "    sns.barplot(df.index, df.mean(axis=1), yerr=ci95, hue=df['Task_Type'])\n",
    "    plt.ylabel('Response rate')"
   ]
  },
  {
   "cell_type": "code",
   "execution_count": 7,
   "metadata": {},
   "outputs": [
    {
     "data": {
      "image/png": "[encoded data removed]",
      "text/plain": [
       "<Figure size 432x288 with 1 Axes>"
      ]
     },
     "metadata": {
      "needs_background": "light"
     },
     "output_type": "display_data"
    }
   ],
   "source": [
    "Response_rate_plot(df_1)"
   ]
  },
  {
   "cell_type": "markdown",
   "metadata": {},
   "source": [
    "# Source memory correct rate"
   ]
  },
  {
   "cell_type": "markdown",
   "metadata": {},
   "source": [
    "### Source memory correct rate DataFrame"
   ]
  },
  {
   "cell_type": "code",
   "execution_count": 8,
   "metadata": {},
   "outputs": [],
   "source": [
    "def Source_memory_correct_rate_DataFrame(subject_ID):\n",
    "    \n",
    "    # merge DM_study, DM_test : left on = 'ObjID', right on = 'Object_ID'\n",
    "    \n",
    "    DM_study = globals()[\"DM{:0>2}_study\".format(subject_ID)]\n",
    "    DM_test = globals()[\"DM{:0>2}_test\".format(subject_ID)]\n",
    "    \n",
    "    merge = pd.merge(DM_study, DM_test[DM_test['Task_Type']==0], left_on='ObjID', right_on='Object_ID')\n",
    "    globals()[\"DM{:0>2}_merge\".format(subject_ID)] = merge[merge['Res2']!=5].reset_index()\n",
    "    \n",
    "    DM_merge = globals()[\"DM{:0>2}_merge\".format(subject_ID)]\n",
    "    list = []\n",
    "\n",
    "    \n",
    "    # sort if 'LocID' == 'Res2'\n",
    "    \n",
    "    for i in range(len(DM_merge)):\n",
    "    \n",
    "        if DM_merge['LocID'][i] == DM_merge['Res2'][i]:\n",
    "            list.append('Y')\n",
    "        else:\n",
    "            list.append('N')\n",
    "\n",
    "    DM_merge['true'] = list\n",
    "    \n",
    "    \n",
    "    # create Source memory correct rate DataFrame\n",
    "    \n",
    "    C1 = DM_merge['sort']\n",
    "    C2 = DM_merge['true']\n",
    "    zero = np.zeros(4)\n",
    "\n",
    "    if len(DM_merge[C1=='HIT-HC'])!=0:\n",
    "        zero[0] = len(DM_merge[(C1=='HIT-HC') & (C2=='Y')]) / len(DM_merge[C1=='HIT-HC'])\n",
    "   \n",
    "    if len(DM_merge[C1=='HIT-LC'])!=0:\n",
    "        zero[1] = len(DM_merge[(C1=='HIT-LC') & (C2=='Y')]) / len(DM_merge[C1=='HIT-LC'])\n",
    "    \n",
    "    if len(DM_merge[C1=='MISS-LC'])!=0:\n",
    "        zero[2] = len(DM_merge[(C1=='MISS-LC') & (C2=='Y')]) / len(DM_merge[C1=='MISS-LC'])\n",
    "    \n",
    "    if len(DM_merge[C1=='MISS-HC'])!=0:\n",
    "        zero[3] = len(DM_merge[(C1=='MISS-HC') & (C2=='Y')]) / len(DM_merge[C1=='MISS-HC'])\n",
    "\n",
    "    globals()[\"DM{:0>2}_true_probability\".format(subject_ID)] = pd.DataFrame(zero, \n",
    "                                                                             columns=[\"DM{:0>2}_2\".format(subject_ID)],\n",
    "                                                                             index=['HIT-HC','HIT-LC','MISS-LC','MISS-HC'])\n",
    "    \n",
    "    DM_true_probability = globals()[\"DM{:0>2}_true_probability\".format(subject_ID)]\n",
    "    global df_2\n",
    "    \n",
    "    df_2 = pd.concat([df_2, DM_true_probability], axis=1)"
   ]
  },
  {
   "cell_type": "code",
   "execution_count": 9,
   "metadata": {},
   "outputs": [],
   "source": [
    "df_2 = pd.DataFrame()\n",
    "\n",
    "for subject_ID in range(1,32):\n",
    "    Source_memory_correct_rate_DataFrame(subject_ID)"
   ]
  },
  {
   "cell_type": "markdown",
   "metadata": {},
   "source": [
    "### Source memory correct rate plot"
   ]
  },
  {
   "cell_type": "code",
   "execution_count": 10,
   "metadata": {},
   "outputs": [],
   "source": [
    "def Source_memory_correct_rate_plot(df):\n",
    "    \n",
    "    # error value\n",
    "    \n",
    "    ci95 = 1.96 * (df.std(axis=1) / 31**(1/2))\n",
    "    \n",
    "    \n",
    "    # plot\n",
    "    \n",
    "    sns.barplot(df.index, df.mean(axis=1), yerr=ci95)\n",
    "    plt.axhline(0.25, color='black', ls='--')\n",
    "    plt.ylabel('Source memory correct rate')"
   ]
  },
  {
   "cell_type": "code",
   "execution_count": 11,
   "metadata": {},
   "outputs": [
    {
     "data": {
      "image/png": "[encoded data removed]",
      "text/plain": [
       "<Figure size 432x288 with 1 Axes>"
      ]
     },
     "metadata": {
      "needs_background": "light"
     },
     "output_type": "display_data"
    }
   ],
   "source": [
    "Source_memory_correct_rate_plot(df_2)"
   ]
  },
  {
   "cell_type": "code",
   "execution_count": null,
   "metadata": {},
   "outputs": [],
   "source": []
  }
 ],
 "metadata": {
  "kernelspec": {
   "display_name": "Python 3",
   "language": "python",
   "name": "python3"
  },
  "language_info": {
   "codemirror_mode": {
    "name": "ipython",
    "version": 3
   },
   "file_extension": ".py",
   "mimetype": "text/x-python",
   "name": "python",
   "nbconvert_exporter": "python",
   "pygments_lexer": "ipython3",
   "version": "3.8.2"
  }
 },
 "nbformat": 4,
 "nbformat_minor": 4
}
